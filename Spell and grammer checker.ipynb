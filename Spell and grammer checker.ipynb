{
 "cells": [
  {
   "cell_type": "code",
   "execution_count": 3,
   "id": "1b0c0396-7a11-4dd9-8e8d-723d29219824",
   "metadata": {},
   "outputs": [
    {
     "name": "stdout",
     "output_type": "stream",
     "text": [
      "Defaulting to user installation because normal site-packages is not writeable\n",
      "Collecting language-tool-python\n",
      "  Downloading language_tool_python-2.8.1-py3-none-any.whl.metadata (12 kB)\n",
      "Requirement already satisfied: pip in c:\\programdata\\anaconda3\\lib\\site-packages (from language-tool-python) (24.0)\n",
      "Requirement already satisfied: requests in c:\\programdata\\anaconda3\\lib\\site-packages (from language-tool-python) (2.32.2)\n",
      "Requirement already satisfied: tqdm in c:\\programdata\\anaconda3\\lib\\site-packages (from language-tool-python) (4.66.4)\n",
      "Requirement already satisfied: wheel in c:\\programdata\\anaconda3\\lib\\site-packages (from language-tool-python) (0.43.0)\n",
      "Requirement already satisfied: charset-normalizer<4,>=2 in c:\\programdata\\anaconda3\\lib\\site-packages (from requests->language-tool-python) (2.0.4)\n",
      "Requirement already satisfied: idna<4,>=2.5 in c:\\programdata\\anaconda3\\lib\\site-packages (from requests->language-tool-python) (3.7)\n",
      "Requirement already satisfied: urllib3<3,>=1.21.1 in c:\\programdata\\anaconda3\\lib\\site-packages (from requests->language-tool-python) (2.2.2)\n",
      "Requirement already satisfied: certifi>=2017.4.17 in c:\\programdata\\anaconda3\\lib\\site-packages (from requests->language-tool-python) (2024.7.4)\n",
      "Requirement already satisfied: colorama in c:\\programdata\\anaconda3\\lib\\site-packages (from tqdm->language-tool-python) (0.4.6)\n",
      "Downloading language_tool_python-2.8.1-py3-none-any.whl (35 kB)\n",
      "Installing collected packages: language-tool-python\n",
      "Successfully installed language-tool-python-2.8.1\n",
      "Note: you may need to restart the kernel to use updated packages.\n"
     ]
    }
   ],
   "source": [
    "pip install language-tool-python"
   ]
  },
  {
   "cell_type": "code",
   "execution_count": 5,
   "id": "129200d0-b5ba-40d3-892a-0b04d385a634",
   "metadata": {},
   "outputs": [],
   "source": [
    "# Importing the necessary library\n",
    "import language_tool_python"
   ]
  },
  {
   "cell_type": "code",
   "execution_count": 7,
   "id": "abb3cfda-7ddf-41c1-b704-3776fda93af7",
   "metadata": {},
   "outputs": [],
   "source": [
    "def spell_and_grammar_checker(text):\n",
    "    # Initialize the language tool\n",
    "    tool = language_tool_python.LanguageTool('en-US')\n",
    "    \n",
    "    # Check for mistakes\n",
    "    matches = tool.check(text)\n",
    "    \n",
    "    # Display original text\n",
    "    print(\"Original Text:\")\n",
    "    print(text)\n",
    "    print(\"-\" * 50)\n",
    "    \n",
    "    # Apply corrections\n",
    "    corrected_text = tool.correct(text)\n",
    "    print(\"Corrected Text:\")\n",
    "    print(corrected_text)\n",
    "    \n",
    "    print(\"-\" * 50)\n",
    "    # Detailed error analysis\n",
    "    print(\"Detailed Issues Found:\")\n",
    "    for match in matches:\n",
    "        print(f\"Error: {match.message}\")\n",
    "        print(f\"Suggested Correction: {match.replacements}\")\n",
    "        print(f\"Error Context: {match.context}\")\n",
    "        print(\"-\" * 30)"
   ]
  },
  {
   "cell_type": "code",
   "execution_count": 9,
   "id": "5a243098-2301-4a15-a250-9ca30208ae9d",
   "metadata": {},
   "outputs": [
    {
     "name": "stderr",
     "output_type": "stream",
     "text": [
      "Downloading LanguageTool 6.4: 100%|█████████████████████████████████████████████████| 246M/246M [01:04<00:00, 3.82MB/s]\n",
      "Unzipping C:\\Users\\Umakant\\AppData\\Local\\Temp\\tmpg4e1tfha.zip to C:\\Users\\Umakant\\.cache\\language_tool_python.\n",
      "Downloaded https://www.languagetool.org/download/LanguageTool-6.4.zip to C:\\Users\\Umakant\\.cache\\language_tool_python.\n"
     ]
    },
    {
     "name": "stdout",
     "output_type": "stream",
     "text": [
      "Original Text:\n",
      "\n",
      "This is an exmaple of a paragrapgh with some speling errors and also some grammar mistakes. \n",
      "The tool will helps to find and corect them!\n",
      "\n",
      "--------------------------------------------------\n",
      "Corrected Text:\n",
      "\n",
      "This is an example of a paragraph with some spelling errors and also some grammar mistakes. \n",
      "The tool will helps to find and correct them!\n",
      "\n",
      "--------------------------------------------------\n",
      "Detailed Issues Found:\n",
      "Error: Possible spelling mistake found.\n",
      "Suggested Correction: ['example']\n",
      "Error Context:  This is an exmaple of a paragrapgh with some speling error...\n",
      "------------------------------\n",
      "Error: Possible spelling mistake found.\n",
      "Suggested Correction: ['paragraph']\n",
      "Error Context:  This is an exmaple of a paragrapgh with some speling errors and also some ...\n",
      "------------------------------\n",
      "Error: Possible spelling mistake found.\n",
      "Suggested Correction: ['spelling', 'spewing', 'spieling']\n",
      "Error Context: ...is an exmaple of a paragrapgh with some speling errors and also some grammar mistakes. ...\n",
      "------------------------------\n",
      "Error: Possible spelling mistake found.\n",
      "Suggested Correction: ['correct', 'core ct']\n",
      "Error Context: ...takes.  The tool will helps to find and corect them! \n",
      "------------------------------\n"
     ]
    }
   ],
   "source": [
    "# Example text with spelling and grammatical errors\n",
    "example_text = \"\"\"\n",
    "This is an exmaple of a paragrapgh with some speling errors and also some grammar mistakes. \n",
    "The tool will helps to find and corect them!\n",
    "\"\"\"\n",
    "\n",
    "# Run the checker\n",
    "spell_and_grammar_checker(example_text)\n"
   ]
  },
  {
   "cell_type": "code",
   "execution_count": null,
   "id": "bffe2872-da22-402b-b405-04eb6b88f07d",
   "metadata": {},
   "outputs": [],
   "source": []
  }
 ],
 "metadata": {
  "kernelspec": {
   "display_name": "Python 3 (ipykernel)",
   "language": "python",
   "name": "python3"
  },
  "language_info": {
   "codemirror_mode": {
    "name": "ipython",
    "version": 3
   },
   "file_extension": ".py",
   "mimetype": "text/x-python",
   "name": "python",
   "nbconvert_exporter": "python",
   "pygments_lexer": "ipython3",
   "version": "3.12.4"
  }
 },
 "nbformat": 4,
 "nbformat_minor": 5
}
